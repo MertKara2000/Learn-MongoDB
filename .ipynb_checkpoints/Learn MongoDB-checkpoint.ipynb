{
 "cells": [
  {
   "cell_type": "code",
   "execution_count": 73,
   "id": "enhanced-pitch",
   "metadata": {},
   "outputs": [],
   "source": [
    "import pymongo"
   ]
  },
  {
   "cell_type": "markdown",
   "id": "civilian-above",
   "metadata": {},
   "source": [
    "### Creating collection and inserting one record"
   ]
  },
  {
   "cell_type": "code",
   "execution_count": 74,
   "id": "floating-words",
   "metadata": {},
   "outputs": [],
   "source": [
    "myclient = pymongo.MongoClient(\"mongodb+srv://Mert:<password>@cluster0.ks8tk.mongodb.net/myFirstDatabase?retryWrites=true&w=majority\")\n",
    "mydb = myclient[\"mydatabase\"]\n",
    "mycol = mydb[\"customers\"]\n",
    "\n",
    "mydict = { \"name\": \"John\", \"address\": \"Highway 37\" }\n",
    "\n",
    "x = mycol.insert_one(mydict)"
   ]
  },
  {
   "cell_type": "markdown",
   "id": "brilliant-serbia",
   "metadata": {},
   "source": [
    "### Insert Multiple Documents"
   ]
  },
  {
   "cell_type": "code",
   "execution_count": 75,
   "id": "noted-bennett",
   "metadata": {},
   "outputs": [
    {
     "name": "stdout",
     "output_type": "stream",
     "text": [
      "[ObjectId('60f154f548a9132c37c120c7'), ObjectId('60f154f548a9132c37c120c8'), ObjectId('60f154f548a9132c37c120c9'), ObjectId('60f154f548a9132c37c120ca'), ObjectId('60f154f548a9132c37c120cb'), ObjectId('60f154f548a9132c37c120cc'), ObjectId('60f154f548a9132c37c120cd'), ObjectId('60f154f548a9132c37c120ce'), ObjectId('60f154f548a9132c37c120cf'), ObjectId('60f154f548a9132c37c120d0'), ObjectId('60f154f548a9132c37c120d1'), ObjectId('60f154f548a9132c37c120d2')]\n"
     ]
    }
   ],
   "source": [
    "mylist = [\n",
    "  { \"name\": \"Amy\", \"address\": \"Apple st 652\"},\n",
    "  { \"name\": \"Hannah\", \"address\": \"Mountain 21\"},\n",
    "  { \"name\": \"Michael\", \"address\": \"Valley 345\"},\n",
    "  { \"name\": \"Sandy\", \"address\": \"Ocean blvd 2\"},\n",
    "  { \"name\": \"Betty\", \"address\": \"Green Grass 1\"},\n",
    "  { \"name\": \"Richard\", \"address\": \"Sky st 331\"},\n",
    "  { \"name\": \"Susan\", \"address\": \"One way 98\"},\n",
    "  { \"name\": \"Vicky\", \"address\": \"Yellow Garden 2\"},\n",
    "  { \"name\": \"Ben\", \"address\": \"Park Lane 38\"},\n",
    "  { \"name\": \"William\", \"address\": \"Central st 954\"},\n",
    "  { \"name\": \"Chuck\", \"address\": \"Main Road 989\"},\n",
    "  { \"name\": \"Viola\", \"address\": \"Sideway 1633\"}\n",
    "]\n",
    "\n",
    "x = mycol.insert_many(mylist)\n",
    "\n",
    "#print list of the _id values of the inserted documents:\n",
    "print(x.inserted_ids)"
   ]
  },
  {
   "cell_type": "markdown",
   "id": "still-ceiling",
   "metadata": {},
   "source": [
    "### Insert Multiple Documents, with Specified IDs"
   ]
  },
  {
   "cell_type": "code",
   "execution_count": 76,
   "id": "scientific-ordinance",
   "metadata": {},
   "outputs": [
    {
     "name": "stdout",
     "output_type": "stream",
     "text": [
      "[1, 2, 3, 4, 5, 6, 7, 8, 9, 10, 11, 12, 13, 14]\n"
     ]
    }
   ],
   "source": [
    "mylist = [\n",
    "  { \"_id\": 1, \"name\": \"John\", \"address\": \"Highway 37\"},\n",
    "  { \"_id\": 2, \"name\": \"Peter\", \"address\": \"Lowstreet 27\"},\n",
    "  { \"_id\": 3, \"name\": \"Amy\", \"address\": \"Apple st 652\"},\n",
    "  { \"_id\": 4, \"name\": \"Hannah\", \"address\": \"Mountain 21\"},\n",
    "  { \"_id\": 5, \"name\": \"Michael\", \"address\": \"Valley 345\"},\n",
    "  { \"_id\": 6, \"name\": \"Sandy\", \"address\": \"Ocean blvd 2\"},\n",
    "  { \"_id\": 7, \"name\": \"Betty\", \"address\": \"Green Grass 1\"},\n",
    "  { \"_id\": 8, \"name\": \"Richard\", \"address\": \"Sky st 331\"},\n",
    "  { \"_id\": 9, \"name\": \"Susan\", \"address\": \"One way 98\"},\n",
    "  { \"_id\": 10, \"name\": \"Vicky\", \"address\": \"Yellow Garden 2\"},\n",
    "  { \"_id\": 11, \"name\": \"Ben\", \"address\": \"Park Lane 38\"},\n",
    "  { \"_id\": 12, \"name\": \"William\", \"address\": \"Central st 954\"},\n",
    "  { \"_id\": 13, \"name\": \"Chuck\", \"address\": \"Main Road 989\"},\n",
    "  { \"_id\": 14, \"name\": \"Viola\", \"address\": \"Sideway 1633\"}\n",
    "]\n",
    "\n",
    "x = mycol.insert_many(mylist)\n",
    "\n",
    "#print list of the _id values of the inserted documents:\n",
    "print(x.inserted_ids)"
   ]
  },
  {
   "cell_type": "markdown",
   "id": "worthy-sheffield",
   "metadata": {},
   "source": [
    "### Find the first occurrence in the selection"
   ]
  },
  {
   "cell_type": "code",
   "execution_count": 77,
   "id": "dangerous-mandate",
   "metadata": {},
   "outputs": [
    {
     "name": "stdout",
     "output_type": "stream",
     "text": [
      "{'_id': ObjectId('60f154f448a9132c37c120c6'), 'name': 'John', 'address': 'Highway 37'}\n"
     ]
    }
   ],
   "source": [
    "x = mycol.find_one()\n",
    "print(x)"
   ]
  },
  {
   "cell_type": "markdown",
   "id": "persistent-prisoner",
   "metadata": {},
   "source": [
    "### Find all occurrence in the selection"
   ]
  },
  {
   "cell_type": "code",
   "execution_count": 78,
   "id": "upper-phone",
   "metadata": {},
   "outputs": [
    {
     "name": "stdout",
     "output_type": "stream",
     "text": [
      "{'_id': ObjectId('60f154f448a9132c37c120c6'), 'name': 'John', 'address': 'Highway 37'}\n",
      "{'_id': ObjectId('60f154f548a9132c37c120c7'), 'name': 'Amy', 'address': 'Apple st 652'}\n",
      "{'_id': ObjectId('60f154f548a9132c37c120c8'), 'name': 'Hannah', 'address': 'Mountain 21'}\n",
      "{'_id': ObjectId('60f154f548a9132c37c120c9'), 'name': 'Michael', 'address': 'Valley 345'}\n",
      "{'_id': ObjectId('60f154f548a9132c37c120ca'), 'name': 'Sandy', 'address': 'Ocean blvd 2'}\n",
      "{'_id': ObjectId('60f154f548a9132c37c120cb'), 'name': 'Betty', 'address': 'Green Grass 1'}\n",
      "{'_id': ObjectId('60f154f548a9132c37c120cc'), 'name': 'Richard', 'address': 'Sky st 331'}\n",
      "{'_id': ObjectId('60f154f548a9132c37c120cd'), 'name': 'Susan', 'address': 'One way 98'}\n",
      "{'_id': ObjectId('60f154f548a9132c37c120ce'), 'name': 'Vicky', 'address': 'Yellow Garden 2'}\n",
      "{'_id': ObjectId('60f154f548a9132c37c120cf'), 'name': 'Ben', 'address': 'Park Lane 38'}\n",
      "{'_id': ObjectId('60f154f548a9132c37c120d0'), 'name': 'William', 'address': 'Central st 954'}\n",
      "{'_id': ObjectId('60f154f548a9132c37c120d1'), 'name': 'Chuck', 'address': 'Main Road 989'}\n",
      "{'_id': ObjectId('60f154f548a9132c37c120d2'), 'name': 'Viola', 'address': 'Sideway 1633'}\n",
      "{'_id': 1, 'name': 'John', 'address': 'Highway 37'}\n",
      "{'_id': 2, 'name': 'Peter', 'address': 'Lowstreet 27'}\n",
      "{'_id': 3, 'name': 'Amy', 'address': 'Apple st 652'}\n",
      "{'_id': 4, 'name': 'Hannah', 'address': 'Mountain 21'}\n",
      "{'_id': 5, 'name': 'Michael', 'address': 'Valley 345'}\n",
      "{'_id': 6, 'name': 'Sandy', 'address': 'Ocean blvd 2'}\n",
      "{'_id': 7, 'name': 'Betty', 'address': 'Green Grass 1'}\n",
      "{'_id': 8, 'name': 'Richard', 'address': 'Sky st 331'}\n",
      "{'_id': 9, 'name': 'Susan', 'address': 'One way 98'}\n",
      "{'_id': 10, 'name': 'Vicky', 'address': 'Yellow Garden 2'}\n",
      "{'_id': 11, 'name': 'Ben', 'address': 'Park Lane 38'}\n",
      "{'_id': 12, 'name': 'William', 'address': 'Central st 954'}\n",
      "{'_id': 13, 'name': 'Chuck', 'address': 'Main Road 989'}\n",
      "{'_id': 14, 'name': 'Viola', 'address': 'Sideway 1633'}\n"
     ]
    }
   ],
   "source": [
    "for x in mycol.find():\n",
    "    print(x)"
   ]
  },
  {
   "cell_type": "markdown",
   "id": "contrary-treaty",
   "metadata": {},
   "source": [
    "### Find only some fields"
   ]
  },
  {
   "cell_type": "code",
   "execution_count": 79,
   "id": "sensitive-question",
   "metadata": {},
   "outputs": [
    {
     "name": "stdout",
     "output_type": "stream",
     "text": [
      "{'name': 'John', 'address': 'Highway 37'}\n",
      "{'name': 'Amy', 'address': 'Apple st 652'}\n",
      "{'name': 'Hannah', 'address': 'Mountain 21'}\n",
      "{'name': 'Michael', 'address': 'Valley 345'}\n",
      "{'name': 'Sandy', 'address': 'Ocean blvd 2'}\n",
      "{'name': 'Betty', 'address': 'Green Grass 1'}\n",
      "{'name': 'Richard', 'address': 'Sky st 331'}\n",
      "{'name': 'Susan', 'address': 'One way 98'}\n",
      "{'name': 'Vicky', 'address': 'Yellow Garden 2'}\n",
      "{'name': 'Ben', 'address': 'Park Lane 38'}\n",
      "{'name': 'William', 'address': 'Central st 954'}\n",
      "{'name': 'Chuck', 'address': 'Main Road 989'}\n",
      "{'name': 'Viola', 'address': 'Sideway 1633'}\n",
      "{'name': 'John', 'address': 'Highway 37'}\n",
      "{'name': 'Peter', 'address': 'Lowstreet 27'}\n",
      "{'name': 'Amy', 'address': 'Apple st 652'}\n",
      "{'name': 'Hannah', 'address': 'Mountain 21'}\n",
      "{'name': 'Michael', 'address': 'Valley 345'}\n",
      "{'name': 'Sandy', 'address': 'Ocean blvd 2'}\n",
      "{'name': 'Betty', 'address': 'Green Grass 1'}\n",
      "{'name': 'Richard', 'address': 'Sky st 331'}\n",
      "{'name': 'Susan', 'address': 'One way 98'}\n",
      "{'name': 'Vicky', 'address': 'Yellow Garden 2'}\n",
      "{'name': 'Ben', 'address': 'Park Lane 38'}\n",
      "{'name': 'William', 'address': 'Central st 954'}\n",
      "{'name': 'Chuck', 'address': 'Main Road 989'}\n",
      "{'name': 'Viola', 'address': 'Sideway 1633'}\n"
     ]
    }
   ],
   "source": [
    "for x in mycol.find({},{ \"_id\": 0, \"name\": 1, \"address\": 1 }):\n",
    "    print(x)"
   ]
  },
  {
   "cell_type": "code",
   "execution_count": 80,
   "id": "operational-standing",
   "metadata": {},
   "outputs": [
    {
     "name": "stdout",
     "output_type": "stream",
     "text": [
      "{'_id': ObjectId('60f154f448a9132c37c120c6'), 'name': 'John'}\n",
      "{'_id': ObjectId('60f154f548a9132c37c120c7'), 'name': 'Amy'}\n",
      "{'_id': ObjectId('60f154f548a9132c37c120c8'), 'name': 'Hannah'}\n",
      "{'_id': ObjectId('60f154f548a9132c37c120c9'), 'name': 'Michael'}\n",
      "{'_id': ObjectId('60f154f548a9132c37c120ca'), 'name': 'Sandy'}\n",
      "{'_id': ObjectId('60f154f548a9132c37c120cb'), 'name': 'Betty'}\n",
      "{'_id': ObjectId('60f154f548a9132c37c120cc'), 'name': 'Richard'}\n",
      "{'_id': ObjectId('60f154f548a9132c37c120cd'), 'name': 'Susan'}\n",
      "{'_id': ObjectId('60f154f548a9132c37c120ce'), 'name': 'Vicky'}\n",
      "{'_id': ObjectId('60f154f548a9132c37c120cf'), 'name': 'Ben'}\n",
      "{'_id': ObjectId('60f154f548a9132c37c120d0'), 'name': 'William'}\n",
      "{'_id': ObjectId('60f154f548a9132c37c120d1'), 'name': 'Chuck'}\n",
      "{'_id': ObjectId('60f154f548a9132c37c120d2'), 'name': 'Viola'}\n",
      "{'_id': 1, 'name': 'John'}\n",
      "{'_id': 2, 'name': 'Peter'}\n",
      "{'_id': 3, 'name': 'Amy'}\n",
      "{'_id': 4, 'name': 'Hannah'}\n",
      "{'_id': 5, 'name': 'Michael'}\n",
      "{'_id': 6, 'name': 'Sandy'}\n",
      "{'_id': 7, 'name': 'Betty'}\n",
      "{'_id': 8, 'name': 'Richard'}\n",
      "{'_id': 9, 'name': 'Susan'}\n",
      "{'_id': 10, 'name': 'Vicky'}\n",
      "{'_id': 11, 'name': 'Ben'}\n",
      "{'_id': 12, 'name': 'William'}\n",
      "{'_id': 13, 'name': 'Chuck'}\n",
      "{'_id': 14, 'name': 'Viola'}\n"
     ]
    }
   ],
   "source": [
    "for x in mycol.find({},{ \"address\": 0 }):\n",
    "    print(x)"
   ]
  },
  {
   "cell_type": "markdown",
   "id": "eleven-president",
   "metadata": {},
   "source": [
    "### Filtering the Results"
   ]
  },
  {
   "cell_type": "code",
   "execution_count": 81,
   "id": "every-blade",
   "metadata": {},
   "outputs": [
    {
     "name": "stdout",
     "output_type": "stream",
     "text": [
      "{'_id': ObjectId('60f154f548a9132c37c120cf'), 'name': 'Ben', 'address': 'Park Lane 38'}\n",
      "{'_id': 11, 'name': 'Ben', 'address': 'Park Lane 38'}\n"
     ]
    }
   ],
   "source": [
    "myquery = { \"address\": \"Park Lane 38\" }\n",
    "\n",
    "mydoc = mycol.find(myquery)\n",
    "\n",
    "for x in mydoc:\n",
    "    print(x)"
   ]
  },
  {
   "cell_type": "code",
   "execution_count": 82,
   "id": "saving-fetish",
   "metadata": {},
   "outputs": [
    {
     "name": "stdout",
     "output_type": "stream",
     "text": [
      "{'_id': ObjectId('60f154f548a9132c37c120c9'), 'name': 'Michael', 'address': 'Valley 345'}\n",
      "{'_id': ObjectId('60f154f548a9132c37c120cc'), 'name': 'Richard', 'address': 'Sky st 331'}\n",
      "{'_id': ObjectId('60f154f548a9132c37c120ce'), 'name': 'Vicky', 'address': 'Yellow Garden 2'}\n",
      "{'_id': ObjectId('60f154f548a9132c37c120d2'), 'name': 'Viola', 'address': 'Sideway 1633'}\n",
      "{'_id': 5, 'name': 'Michael', 'address': 'Valley 345'}\n",
      "{'_id': 8, 'name': 'Richard', 'address': 'Sky st 331'}\n",
      "{'_id': 10, 'name': 'Vicky', 'address': 'Yellow Garden 2'}\n",
      "{'_id': 14, 'name': 'Viola', 'address': 'Sideway 1633'}\n"
     ]
    }
   ],
   "source": [
    "#Find documents where the address starts with the letter \"S\" or higher\n",
    "myquery = { \"address\": { \"$gt\": \"S\" } }\n",
    "\n",
    "mydoc = mycol.find(myquery)\n",
    "\n",
    "for x in mydoc:\n",
    "    print(x)"
   ]
  },
  {
   "cell_type": "code",
   "execution_count": 83,
   "id": "virtual-metro",
   "metadata": {},
   "outputs": [
    {
     "name": "stdout",
     "output_type": "stream",
     "text": [
      "{'_id': ObjectId('60f154f548a9132c37c120cc'), 'name': 'Richard', 'address': 'Sky st 331'}\n",
      "{'_id': ObjectId('60f154f548a9132c37c120d2'), 'name': 'Viola', 'address': 'Sideway 1633'}\n",
      "{'_id': 8, 'name': 'Richard', 'address': 'Sky st 331'}\n",
      "{'_id': 14, 'name': 'Viola', 'address': 'Sideway 1633'}\n"
     ]
    }
   ],
   "source": [
    "myquery = { \"address\": { \"$regex\": \"^S\" } }\n",
    "\n",
    "mydoc = mycol.find(myquery)\n",
    "\n",
    "for x in mydoc:\n",
    "    print(x)"
   ]
  },
  {
   "cell_type": "markdown",
   "id": "dressed-symbol",
   "metadata": {},
   "source": [
    "### Sort the Result"
   ]
  },
  {
   "cell_type": "code",
   "execution_count": 84,
   "id": "chemical-terminology",
   "metadata": {},
   "outputs": [
    {
     "name": "stdout",
     "output_type": "stream",
     "text": [
      "{'_id': ObjectId('60f154f548a9132c37c120c7'), 'name': 'Amy', 'address': 'Apple st 652'}\n",
      "{'_id': 3, 'name': 'Amy', 'address': 'Apple st 652'}\n",
      "{'_id': ObjectId('60f154f548a9132c37c120cf'), 'name': 'Ben', 'address': 'Park Lane 38'}\n",
      "{'_id': 11, 'name': 'Ben', 'address': 'Park Lane 38'}\n",
      "{'_id': ObjectId('60f154f548a9132c37c120cb'), 'name': 'Betty', 'address': 'Green Grass 1'}\n",
      "{'_id': 7, 'name': 'Betty', 'address': 'Green Grass 1'}\n",
      "{'_id': ObjectId('60f154f548a9132c37c120d1'), 'name': 'Chuck', 'address': 'Main Road 989'}\n",
      "{'_id': 13, 'name': 'Chuck', 'address': 'Main Road 989'}\n",
      "{'_id': ObjectId('60f154f548a9132c37c120c8'), 'name': 'Hannah', 'address': 'Mountain 21'}\n",
      "{'_id': 4, 'name': 'Hannah', 'address': 'Mountain 21'}\n",
      "{'_id': ObjectId('60f154f448a9132c37c120c6'), 'name': 'John', 'address': 'Highway 37'}\n",
      "{'_id': 1, 'name': 'John', 'address': 'Highway 37'}\n",
      "{'_id': ObjectId('60f154f548a9132c37c120c9'), 'name': 'Michael', 'address': 'Valley 345'}\n",
      "{'_id': 5, 'name': 'Michael', 'address': 'Valley 345'}\n",
      "{'_id': 2, 'name': 'Peter', 'address': 'Lowstreet 27'}\n",
      "{'_id': ObjectId('60f154f548a9132c37c120cc'), 'name': 'Richard', 'address': 'Sky st 331'}\n",
      "{'_id': 8, 'name': 'Richard', 'address': 'Sky st 331'}\n",
      "{'_id': ObjectId('60f154f548a9132c37c120ca'), 'name': 'Sandy', 'address': 'Ocean blvd 2'}\n",
      "{'_id': 6, 'name': 'Sandy', 'address': 'Ocean blvd 2'}\n",
      "{'_id': ObjectId('60f154f548a9132c37c120cd'), 'name': 'Susan', 'address': 'One way 98'}\n",
      "{'_id': 9, 'name': 'Susan', 'address': 'One way 98'}\n",
      "{'_id': ObjectId('60f154f548a9132c37c120ce'), 'name': 'Vicky', 'address': 'Yellow Garden 2'}\n",
      "{'_id': 10, 'name': 'Vicky', 'address': 'Yellow Garden 2'}\n",
      "{'_id': ObjectId('60f154f548a9132c37c120d2'), 'name': 'Viola', 'address': 'Sideway 1633'}\n",
      "{'_id': 14, 'name': 'Viola', 'address': 'Sideway 1633'}\n",
      "{'_id': ObjectId('60f154f548a9132c37c120d0'), 'name': 'William', 'address': 'Central st 954'}\n",
      "{'_id': 12, 'name': 'William', 'address': 'Central st 954'}\n"
     ]
    }
   ],
   "source": [
    "mydoc = mycol.find().sort(\"name\")\n",
    "\n",
    "for x in mydoc:\n",
    "    print(x)"
   ]
  },
  {
   "cell_type": "code",
   "execution_count": 85,
   "id": "strategic-insertion",
   "metadata": {},
   "outputs": [
    {
     "name": "stdout",
     "output_type": "stream",
     "text": [
      "{'_id': ObjectId('60f154f548a9132c37c120d0'), 'name': 'William', 'address': 'Central st 954'}\n",
      "{'_id': 12, 'name': 'William', 'address': 'Central st 954'}\n",
      "{'_id': ObjectId('60f154f548a9132c37c120d2'), 'name': 'Viola', 'address': 'Sideway 1633'}\n",
      "{'_id': 14, 'name': 'Viola', 'address': 'Sideway 1633'}\n",
      "{'_id': ObjectId('60f154f548a9132c37c120ce'), 'name': 'Vicky', 'address': 'Yellow Garden 2'}\n",
      "{'_id': 10, 'name': 'Vicky', 'address': 'Yellow Garden 2'}\n",
      "{'_id': ObjectId('60f154f548a9132c37c120cd'), 'name': 'Susan', 'address': 'One way 98'}\n",
      "{'_id': 9, 'name': 'Susan', 'address': 'One way 98'}\n",
      "{'_id': ObjectId('60f154f548a9132c37c120ca'), 'name': 'Sandy', 'address': 'Ocean blvd 2'}\n",
      "{'_id': 6, 'name': 'Sandy', 'address': 'Ocean blvd 2'}\n",
      "{'_id': ObjectId('60f154f548a9132c37c120cc'), 'name': 'Richard', 'address': 'Sky st 331'}\n",
      "{'_id': 8, 'name': 'Richard', 'address': 'Sky st 331'}\n",
      "{'_id': 2, 'name': 'Peter', 'address': 'Lowstreet 27'}\n",
      "{'_id': ObjectId('60f154f548a9132c37c120c9'), 'name': 'Michael', 'address': 'Valley 345'}\n",
      "{'_id': 5, 'name': 'Michael', 'address': 'Valley 345'}\n",
      "{'_id': ObjectId('60f154f448a9132c37c120c6'), 'name': 'John', 'address': 'Highway 37'}\n",
      "{'_id': 1, 'name': 'John', 'address': 'Highway 37'}\n",
      "{'_id': ObjectId('60f154f548a9132c37c120c8'), 'name': 'Hannah', 'address': 'Mountain 21'}\n",
      "{'_id': 4, 'name': 'Hannah', 'address': 'Mountain 21'}\n",
      "{'_id': ObjectId('60f154f548a9132c37c120d1'), 'name': 'Chuck', 'address': 'Main Road 989'}\n",
      "{'_id': 13, 'name': 'Chuck', 'address': 'Main Road 989'}\n",
      "{'_id': ObjectId('60f154f548a9132c37c120cb'), 'name': 'Betty', 'address': 'Green Grass 1'}\n",
      "{'_id': 7, 'name': 'Betty', 'address': 'Green Grass 1'}\n",
      "{'_id': ObjectId('60f154f548a9132c37c120cf'), 'name': 'Ben', 'address': 'Park Lane 38'}\n",
      "{'_id': 11, 'name': 'Ben', 'address': 'Park Lane 38'}\n",
      "{'_id': ObjectId('60f154f548a9132c37c120c7'), 'name': 'Amy', 'address': 'Apple st 652'}\n",
      "{'_id': 3, 'name': 'Amy', 'address': 'Apple st 652'}\n"
     ]
    }
   ],
   "source": [
    "# Sort descending\n",
    "mydoc = mycol.find().sort(\"name\", -1)\n",
    "\n",
    "for x in mydoc:\n",
    "    print(x)"
   ]
  },
  {
   "cell_type": "markdown",
   "id": "careful-given",
   "metadata": {},
   "source": [
    "### Delete "
   ]
  },
  {
   "cell_type": "code",
   "execution_count": 86,
   "id": "above-population",
   "metadata": {},
   "outputs": [
    {
     "data": {
      "text/plain": [
       "<pymongo.results.DeleteResult at 0x19390a99288>"
      ]
     },
     "execution_count": 86,
     "metadata": {},
     "output_type": "execute_result"
    }
   ],
   "source": [
    "myquery = { \"address\": \"Mountain 21\" }\n",
    "\n",
    "mycol.delete_one(myquery)"
   ]
  },
  {
   "cell_type": "code",
   "execution_count": 87,
   "id": "wrapped-clerk",
   "metadata": {},
   "outputs": [
    {
     "name": "stdout",
     "output_type": "stream",
     "text": [
      "4  documents deleted.\n"
     ]
    }
   ],
   "source": [
    "myquery = { \"address\": {\"$regex\": \"^S\"} }\n",
    "\n",
    "x = mycol.delete_many(myquery)\n",
    "\n",
    "print(x.deleted_count, \" documents deleted.\")"
   ]
  },
  {
   "cell_type": "code",
   "execution_count": 88,
   "id": "preliminary-edition",
   "metadata": {},
   "outputs": [
    {
     "name": "stdout",
     "output_type": "stream",
     "text": [
      "22  documents deleted.\n"
     ]
    }
   ],
   "source": [
    "x = mycol.delete_many({})\n",
    "\n",
    "print(x.deleted_count, \" documents deleted.\")"
   ]
  },
  {
   "cell_type": "markdown",
   "id": "handed-batman",
   "metadata": {},
   "source": [
    "### Drop"
   ]
  },
  {
   "cell_type": "code",
   "execution_count": 89,
   "id": "tired-barbados",
   "metadata": {},
   "outputs": [
    {
     "name": "stdout",
     "output_type": "stream",
     "text": [
      "[1, 2, 3, 4, 5, 6, 7, 8, 9, 10, 11, 12, 13, 14]\n"
     ]
    }
   ],
   "source": [
    "mylist = [\n",
    "  { \"_id\": 1, \"name\": \"John\", \"address\": \"Highway 37\"},\n",
    "  { \"_id\": 2, \"name\": \"Peter\", \"address\": \"Lowstreet 27\"},\n",
    "  { \"_id\": 3, \"name\": \"Amy\", \"address\": \"Apple st 652\"},\n",
    "  { \"_id\": 4, \"name\": \"Hannah\", \"address\": \"Mountain 21\"},\n",
    "  { \"_id\": 5, \"name\": \"Michael\", \"address\": \"Valley 345\"},\n",
    "  { \"_id\": 6, \"name\": \"Sandy\", \"address\": \"Ocean blvd 2\"},\n",
    "  { \"_id\": 7, \"name\": \"Betty\", \"address\": \"Green Grass 1\"},\n",
    "  { \"_id\": 8, \"name\": \"Richard\", \"address\": \"Sky st 331\"},\n",
    "  { \"_id\": 9, \"name\": \"Susan\", \"address\": \"One way 98\"},\n",
    "  { \"_id\": 10, \"name\": \"Vicky\", \"address\": \"Yellow Garden 2\"},\n",
    "  { \"_id\": 11, \"name\": \"Ben\", \"address\": \"Park Lane 38\"},\n",
    "  { \"_id\": 12, \"name\": \"William\", \"address\": \"Central st 954\"},\n",
    "  { \"_id\": 13, \"name\": \"Chuck\", \"address\": \"Main Road 989\"},\n",
    "  { \"_id\": 14, \"name\": \"Viola\", \"address\": \"Sideway 1633\"}\n",
    "]\n",
    "\n",
    "x = mycol.insert_many(mylist)\n",
    "\n",
    "#print list of the _id values of the inserted documents:\n",
    "print(x.inserted_ids)"
   ]
  },
  {
   "cell_type": "code",
   "execution_count": 90,
   "id": "crucial-armor",
   "metadata": {},
   "outputs": [],
   "source": [
    "mycol.drop()"
   ]
  },
  {
   "cell_type": "markdown",
   "id": "recorded-piece",
   "metadata": {},
   "source": [
    "### Update"
   ]
  },
  {
   "cell_type": "code",
   "execution_count": 91,
   "id": "canadian-japanese",
   "metadata": {},
   "outputs": [],
   "source": [
    "mylist = [\n",
    "  { \"_id\": 1, \"name\": \"John\", \"address\": \"Highway 37\"},\n",
    "  { \"_id\": 2, \"name\": \"Peter\", \"address\": \"Lowstreet 27\"},\n",
    "  { \"_id\": 3, \"name\": \"Amy\", \"address\": \"Apple st 652\"},\n",
    "  { \"_id\": 4, \"name\": \"Hannah\", \"address\": \"Mountain 21\"},\n",
    "  { \"_id\": 5, \"name\": \"Michael\", \"address\": \"Valley 345\"},\n",
    "  { \"_id\": 6, \"name\": \"Sandy\", \"address\": \"Ocean blvd 2\"},\n",
    "  { \"_id\": 7, \"name\": \"Betty\", \"address\": \"Green Grass 1\"},\n",
    "  { \"_id\": 8, \"name\": \"Richard\", \"address\": \"Sky st 331\"},\n",
    "  { \"_id\": 9, \"name\": \"Susan\", \"address\": \"One way 98\"},\n",
    "  { \"_id\": 10, \"name\": \"Vicky\", \"address\": \"Yellow Garden 2\"},\n",
    "  { \"_id\": 11, \"name\": \"Ben\", \"address\": \"Park Lane 38\"},\n",
    "  { \"_id\": 12, \"name\": \"William\", \"address\": \"Central st 954\"},\n",
    "  { \"_id\": 13, \"name\": \"Chuck\", \"address\": \"Main Road 989\"},\n",
    "  { \"_id\": 14, \"name\": \"Viola\", \"address\": \"Sideway 1633\"}\n",
    "]\n",
    "\n",
    "x = mycol.insert_many(mylist)"
   ]
  },
  {
   "cell_type": "code",
   "execution_count": 92,
   "id": "adopted-reading",
   "metadata": {},
   "outputs": [
    {
     "name": "stdout",
     "output_type": "stream",
     "text": [
      "{'_id': 1, 'name': 'John', 'address': 'Highway 37'}\n",
      "{'_id': 2, 'name': 'Peter', 'address': 'Lowstreet 27'}\n",
      "{'_id': 3, 'name': 'Amy', 'address': 'Apple st 652'}\n",
      "{'_id': 4, 'name': 'Hannah', 'address': 'Mountain 21'}\n",
      "{'_id': 5, 'name': 'Michael', 'address': 'Canyon 123'}\n",
      "{'_id': 6, 'name': 'Sandy', 'address': 'Ocean blvd 2'}\n",
      "{'_id': 7, 'name': 'Betty', 'address': 'Green Grass 1'}\n",
      "{'_id': 8, 'name': 'Richard', 'address': 'Sky st 331'}\n",
      "{'_id': 9, 'name': 'Susan', 'address': 'One way 98'}\n",
      "{'_id': 10, 'name': 'Vicky', 'address': 'Yellow Garden 2'}\n",
      "{'_id': 11, 'name': 'Ben', 'address': 'Park Lane 38'}\n",
      "{'_id': 12, 'name': 'William', 'address': 'Central st 954'}\n",
      "{'_id': 13, 'name': 'Chuck', 'address': 'Main Road 989'}\n",
      "{'_id': 14, 'name': 'Viola', 'address': 'Sideway 1633'}\n"
     ]
    }
   ],
   "source": [
    "myquery = { \"address\": \"Valley 345\" }\n",
    "newvalues = { \"$set\": { \"address\": \"Canyon 123\" } }\n",
    "\n",
    "mycol.update_one(myquery, newvalues)\n",
    "\n",
    "#print \"customers\" after the update:\n",
    "for x in mycol.find():\n",
    "    print(x)"
   ]
  },
  {
   "cell_type": "code",
   "execution_count": 93,
   "id": "pretty-aircraft",
   "metadata": {},
   "outputs": [
    {
     "name": "stdout",
     "output_type": "stream",
     "text": [
      "2 documents updated.\n"
     ]
    }
   ],
   "source": [
    "myquery = { \"address\": { \"$regex\": \"^S\" } }\n",
    "newvalues = { \"$set\": { \"name\": \"Minnie\" } }\n",
    "\n",
    "x = mycol.update_many(myquery, newvalues)\n",
    "\n",
    "print(x.modified_count, \"documents updated.\")"
   ]
  },
  {
   "cell_type": "code",
   "execution_count": 94,
   "id": "architectural-wrestling",
   "metadata": {},
   "outputs": [
    {
     "name": "stdout",
     "output_type": "stream",
     "text": [
      "{'_id': 1, 'name': 'John', 'address': 'Highway 37'}\n",
      "{'_id': 2, 'name': 'Peter', 'address': 'Lowstreet 27'}\n",
      "{'_id': 3, 'name': 'Amy', 'address': 'Apple st 652'}\n",
      "{'_id': 4, 'name': 'Hannah', 'address': 'Mountain 21'}\n",
      "{'_id': 5, 'name': 'Michael', 'address': 'Canyon 123'}\n"
     ]
    }
   ],
   "source": [
    "myresult = mycol.find().limit(5)\n",
    "\n",
    "#print the result:\n",
    "for x in myresult:\n",
    "    print(x)  "
   ]
  }
 ],
 "metadata": {
  "kernelspec": {
   "display_name": "OpenCV2",
   "language": "python",
   "name": "opencv2"
  },
  "language_info": {
   "codemirror_mode": {
    "name": "ipython",
    "version": 3
   },
   "file_extension": ".py",
   "mimetype": "text/x-python",
   "name": "python",
   "nbconvert_exporter": "python",
   "pygments_lexer": "ipython3",
   "version": "3.7.10"
  }
 },
 "nbformat": 4,
 "nbformat_minor": 5
}
